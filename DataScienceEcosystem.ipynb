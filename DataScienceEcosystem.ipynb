{
  "metadata": {
    "kernelspec": {
      "name": "python",
      "display_name": "Python (Pyodide)",
      "language": "python"
    },
    "language_info": {
      "codemirror_mode": {
        "name": "python",
        "version": 3
      },
      "file_extension": ".py",
      "mimetype": "text/x-python",
      "name": "python",
      "nbconvert_exporter": "python",
      "pygments_lexer": "ipython3",
      "version": "3.8"
    }
  },
  "nbformat_minor": 5,
  "nbformat": 4,
  "cells": [
    {
      "id": "bbd40790-95bc-4817-b371-66791f128cd7",
      "cell_type": "markdown",
      "source": "# Data Science Tools and Ecosystem",
      "metadata": {}
    },
    {
      "id": "5e848c99-d382-4698-b909-48e41642c0fd",
      "cell_type": "markdown",
      "source": "In this notebook, Data Science Tools and Ecosystem are summarized. \n**Objectives :**\n* Python\n* R\n* SQL\n* Scala\n* Ruby\n* JavaScript",
      "metadata": {}
    },
    {
      "id": "3b4829e7-d167-4889-8932-8b5e9bb9ad8b",
      "cell_type": "markdown",
      "source": "Some of the popular languages that Data Scientists use are:\n1. Python\n2. R\n3. SQL\n4. Scala\n5. Javascript",
      "metadata": {}
    },
    {
      "id": "87bb6c63-d006-48d9-a5bb-26be5907e32c",
      "cell_type": "markdown",
      "source": "Some of the commonly used libraries used by Data Scientists include:\n1. Pandas\n2. NumPy\n3. Matplotlib\n4. Seaborn\n5. Scikit-learn",
      "metadata": {}
    },
    {
      "id": "95b48a3c-b5a7-4beb-b496-8d534d58f4b4",
      "cell_type": "markdown",
      "source": "| Data Science Tools |\n|--------------------|\n| Jupyter Notebook   |\n| RStudio            |",
      "metadata": {}
    },
    {
      "id": "512243f8-12dd-4a22-a927-ca3acc175ca2",
      "cell_type": "markdown",
      "source": "### Below are a few examples of evaluating arithmetic expressions in Python",
      "metadata": {}
    },
    {
      "id": "abfdb580-515b-4cc2-b032-151dcabdd38a",
      "cell_type": "code",
      "source": "# This a simple arithmetic expression to mutiply then add integers\n(3*4)+5",
      "metadata": {
        "trusted": true
      },
      "outputs": [
        {
          "execution_count": 2,
          "output_type": "execute_result",
          "data": {
            "text/plain": "17"
          },
          "metadata": {}
        }
      ],
      "execution_count": 2
    },
    {
      "id": "73049516-b20b-4307-965d-928e19119871",
      "cell_type": "code",
      "source": "# This will convert 200 minutes to hours by diving by 60\nx = 200/60\nprint(x, \"hours\")",
      "metadata": {
        "trusted": true
      },
      "outputs": [
        {
          "name": "stdout",
          "output_type": "stream",
          "text": "3.3333333333333335 hours\n"
        }
      ],
      "execution_count": 5
    },
    {
      "id": "5cae43ba-e9b3-46df-a437-bb87365d7d7c",
      "cell_type": "markdown",
      "source": "## Author",
      "metadata": {}
    },
    {
      "id": "1bd680b8-6916-4dfb-98b9-804646825aba",
      "cell_type": "markdown",
      "source": "Muhammad Ergi Divan Ramadhan",
      "metadata": {}
    }
  ]
}